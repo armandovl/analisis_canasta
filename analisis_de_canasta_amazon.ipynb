{
  "nbformat": 4,
  "nbformat_minor": 0,
  "metadata": {
    "kernelspec": {
      "display_name": "Python 3",
      "language": "python",
      "name": "python3"
    },
    "colab": {
      "name": "Curso NLP 4 Asociación Comprados Juntos.ipynb",
      "provenance": [],
      "include_colab_link": true
    }
  },
  "cells": [
    {
      "cell_type": "markdown",
      "metadata": {
        "id": "view-in-github",
        "colab_type": "text"
      },
      "source": [
        "<a href=\"https://colab.research.google.com/github/armandovl/analisis_canasta/blob/master/analisis_de_canasta_amazon.ipynb\" target=\"_parent\"><img src=\"https://colab.research.google.com/assets/colab-badge.svg\" alt=\"Open In Colab\"/></a>"
      ]
    },
    {
      "cell_type": "markdown",
      "metadata": {
        "id": "cEkl_1cjG0jU",
        "colab_type": "text"
      },
      "source": [
        "<img src=\"https://i1.wp.com/www.sopitas.com/wp-content/uploads/2014/08/Tec-de-Monterrey-Logo-640x581.jpg\" width=\"50\"/> \n",
        "<h5>ITESM Campus Santa Fe <br> Armando Valdés </h5>"
      ]
    },
    {
      "cell_type": "markdown",
      "metadata": {
        "id": "wYSt5yHRVad4",
        "colab_type": "text"
      },
      "source": [
        "### Nomenclatura\n",
        "🟠 Modificar <br>\n",
        "⏮ Repetir en caso de cambiar texto<br>\n",
        "🔘 Opcional"
      ]
    },
    {
      "cell_type": "markdown",
      "metadata": {
        "id": "8sLOdo9iNF9P",
        "colab_type": "text"
      },
      "source": [
        "### 1.-Instalar bibliotecas"
      ]
    },
    {
      "cell_type": "code",
      "metadata": {
        "id": "WIYX9Z1iEM8f",
        "colab_type": "code",
        "colab": {
          "base_uri": "https://localhost:8080/",
          "height": 34
        },
        "outputId": "41c6a3de-7ccd-4563-b40e-4cf4063edc83"
      },
      "source": [
        "!pip install apyori"
      ],
      "execution_count": 1,
      "outputs": [
        {
          "output_type": "stream",
          "text": [
            "Requirement already satisfied: apyori in /usr/local/lib/python3.6/dist-packages (1.1.2)\n"
          ],
          "name": "stdout"
        }
      ]
    },
    {
      "cell_type": "code",
      "metadata": {
        "id": "veerhbbgEAI_",
        "colab_type": "code",
        "colab": {}
      },
      "source": [
        "import numpy as np  \n",
        "import matplotlib.pyplot as plt  \n",
        "import pandas as pd  \n",
        "from apyori import apriori"
      ],
      "execution_count": 2,
      "outputs": []
    },
    {
      "cell_type": "markdown",
      "metadata": {
        "id": "qj1yRQt2EAJZ",
        "colab_type": "text"
      },
      "source": [
        "### 2.-Importar datos (base depurada) 🟠"
      ]
    },
    {
      "cell_type": "code",
      "metadata": {
        "id": "6pcXvvPkQDsl",
        "colab_type": "code",
        "colab": {}
      },
      "source": [
        "#para importar desde url\n",
        "url='https://raw.githubusercontent.com/armandovl/analisis_canasta/master/bases_de_datos/ejemplo_amazon_cafe.csv'"
      ],
      "execution_count": 15,
      "outputs": []
    },
    {
      "cell_type": "code",
      "metadata": {
        "id": "F5ZsajbHEAJd",
        "colab_type": "code",
        "colab": {}
      },
      "source": [
        "df_data = pd.read_csv(url, header = None)"
      ],
      "execution_count": 21,
      "outputs": []
    },
    {
      "cell_type": "code",
      "metadata": {
        "id": "IKqJmwbfEAJt",
        "colab_type": "code",
        "colab": {
          "base_uri": "https://localhost:8080/",
          "height": 204
        },
        "outputId": "6759157b-fd26-4c24-a263-c2011ac92581"
      },
      "source": [
        "df_data.head(5)"
      ],
      "execution_count": 22,
      "outputs": [
        {
          "output_type": "execute_result",
          "data": {
            "text/html": [
              "<div>\n",
              "<style scoped>\n",
              "    .dataframe tbody tr th:only-of-type {\n",
              "        vertical-align: middle;\n",
              "    }\n",
              "\n",
              "    .dataframe tbody tr th {\n",
              "        vertical-align: top;\n",
              "    }\n",
              "\n",
              "    .dataframe thead th {\n",
              "        text-align: right;\n",
              "    }\n",
              "</style>\n",
              "<table border=\"1\" class=\"dataframe\">\n",
              "  <thead>\n",
              "    <tr style=\"text-align: right;\">\n",
              "      <th></th>\n",
              "      <th>0</th>\n",
              "      <th>1</th>\n",
              "      <th>2</th>\n",
              "    </tr>\n",
              "  </thead>\n",
              "  <tbody>\n",
              "    <tr>\n",
              "      <th>0</th>\n",
              "      <td>p1</td>\n",
              "      <td>p50</td>\n",
              "      <td>p215</td>\n",
              "    </tr>\n",
              "    <tr>\n",
              "      <th>1</th>\n",
              "      <td>p2</td>\n",
              "      <td>p105</td>\n",
              "      <td>p214</td>\n",
              "    </tr>\n",
              "    <tr>\n",
              "      <th>2</th>\n",
              "      <td>p3</td>\n",
              "      <td>p180</td>\n",
              "      <td>p214</td>\n",
              "    </tr>\n",
              "    <tr>\n",
              "      <th>3</th>\n",
              "      <td>p4</td>\n",
              "      <td>p121</td>\n",
              "      <td>p70</td>\n",
              "    </tr>\n",
              "    <tr>\n",
              "      <th>4</th>\n",
              "      <td>p5</td>\n",
              "      <td>p77</td>\n",
              "      <td>p82</td>\n",
              "    </tr>\n",
              "  </tbody>\n",
              "</table>\n",
              "</div>"
            ],
            "text/plain": [
              "    0     1     2\n",
              "0  p1   p50  p215\n",
              "1  p2  p105  p214\n",
              "2  p3  p180  p214\n",
              "3  p4  p121   p70\n",
              "4  p5   p77   p82"
            ]
          },
          "metadata": {
            "tags": []
          },
          "execution_count": 22
        }
      ]
    },
    {
      "cell_type": "code",
      "metadata": {
        "id": "2Z1qY6PsaBcX",
        "colab_type": "code",
        "colab": {
          "base_uri": "https://localhost:8080/",
          "height": 204
        },
        "outputId": "a3c99b6c-e7ac-4138-e5e3-8aaa62290d22"
      },
      "source": [
        "df_data.tail(5) #aquí un problema, me pone al final una columna con puros NaN"
      ],
      "execution_count": 24,
      "outputs": [
        {
          "output_type": "execute_result",
          "data": {
            "text/html": [
              "<div>\n",
              "<style scoped>\n",
              "    .dataframe tbody tr th:only-of-type {\n",
              "        vertical-align: middle;\n",
              "    }\n",
              "\n",
              "    .dataframe tbody tr th {\n",
              "        vertical-align: top;\n",
              "    }\n",
              "\n",
              "    .dataframe thead th {\n",
              "        text-align: right;\n",
              "    }\n",
              "</style>\n",
              "<table border=\"1\" class=\"dataframe\">\n",
              "  <thead>\n",
              "    <tr style=\"text-align: right;\">\n",
              "      <th></th>\n",
              "      <th>0</th>\n",
              "      <th>1</th>\n",
              "      <th>2</th>\n",
              "    </tr>\n",
              "  </thead>\n",
              "  <tbody>\n",
              "    <tr>\n",
              "      <th>180</th>\n",
              "      <td>p175</td>\n",
              "      <td>p231</td>\n",
              "      <td>NaN</td>\n",
              "    </tr>\n",
              "    <tr>\n",
              "      <th>181</th>\n",
              "      <td>p176</td>\n",
              "      <td>p232</td>\n",
              "      <td>NaN</td>\n",
              "    </tr>\n",
              "    <tr>\n",
              "      <th>182</th>\n",
              "      <td>p177</td>\n",
              "      <td>p128</td>\n",
              "      <td>NaN</td>\n",
              "    </tr>\n",
              "    <tr>\n",
              "      <th>183</th>\n",
              "      <td>p178</td>\n",
              "      <td>p233</td>\n",
              "      <td>NaN</td>\n",
              "    </tr>\n",
              "    <tr>\n",
              "      <th>184</th>\n",
              "      <td>p179</td>\n",
              "      <td>p234</td>\n",
              "      <td>NaN</td>\n",
              "    </tr>\n",
              "  </tbody>\n",
              "</table>\n",
              "</div>"
            ],
            "text/plain": [
              "        0     1    2\n",
              "180  p175  p231  NaN\n",
              "181  p176  p232  NaN\n",
              "182  p177  p128  NaN\n",
              "183  p178  p233  NaN\n",
              "184  p179  p234  NaN"
            ]
          },
          "metadata": {
            "tags": []
          },
          "execution_count": 24
        }
      ]
    },
    {
      "cell_type": "code",
      "metadata": {
        "id": "4vJcEFsBaMNC",
        "colab_type": "code",
        "colab": {}
      },
      "source": [
        "df_data=df_data.dropna(how=\"all\") #corrigiendo el problema, eliminando fila donde todo sea NaN"
      ],
      "execution_count": 19,
      "outputs": []
    },
    {
      "cell_type": "code",
      "metadata": {
        "id": "rDCgVGjwadvC",
        "colab_type": "code",
        "colab": {
          "base_uri": "https://localhost:8080/",
          "height": 34
        },
        "outputId": "4f93b3ff-aee7-4744-b2e3-3728b17aa8e9"
      },
      "source": [
        "len(df_data)"
      ],
      "execution_count": 23,
      "outputs": [
        {
          "output_type": "execute_result",
          "data": {
            "text/plain": [
              "185"
            ]
          },
          "metadata": {
            "tags": []
          },
          "execution_count": 23
        }
      ]
    },
    {
      "cell_type": "markdown",
      "metadata": {
        "id": "UBriTtEKEAJ-",
        "colab_type": "text"
      },
      "source": [
        "### 3.- Preprocesar (lista de listas) ⏮ "
      ]
    },
    {
      "cell_type": "code",
      "metadata": {
        "id": "0XYXX7OGEAJ_",
        "colab_type": "code",
        "colab": {}
      },
      "source": [
        "records = []  \n",
        "for i in range(0, len(df_data)):  \n",
        "    records.append([str(df_data.values[i,j]) for j in range(0, len(df_data.columns))])"
      ],
      "execution_count": 25,
      "outputs": []
    },
    {
      "cell_type": "markdown",
      "metadata": {
        "id": "eCRetRa4EAKO",
        "colab_type": "text"
      },
      "source": [
        "### 4.-Definir umbrales 🟠⏮ "
      ]
    },
    {
      "cell_type": "code",
      "metadata": {
        "id": "RLOB8aKLEAKP",
        "colab_type": "code",
        "colab": {}
      },
      "source": [
        "lon_min = 2 # Número mínimo de productos a considerar en las reglas\n",
        "\n",
        "veces_minimas_aparece_en_lista=5\n",
        "soporte_min = veces_minimas_aparece_en_lista / len(df_data)\n",
        "\n",
        "#soporte_min =0.01\n",
        "confianza_min =0.5\n",
        "sustento_min =1.5"
      ],
      "execution_count": 32,
      "outputs": []
    },
    {
      "cell_type": "markdown",
      "metadata": {
        "id": "pIM42vX2EAKX",
        "colab_type": "text"
      },
      "source": [
        "### 5.-Ejecutar algoritmo ⏮ "
      ]
    },
    {
      "cell_type": "code",
      "metadata": {
        "id": "4iIUR0gnEAKf",
        "colab_type": "code",
        "colab": {}
      },
      "source": [
        "association_rules = apriori(records, min_support=soporte_min, min_confidence=confianza_min, min_lift=sustento_min, min_length=lon_min)\n",
        "association_results = list(association_rules)  #Convertir los resultados a lista para facilidad de visualización"
      ],
      "execution_count": 33,
      "outputs": []
    },
    {
      "cell_type": "markdown",
      "metadata": {
        "id": "AC62RiiAEAKn",
        "colab_type": "text"
      },
      "source": [
        "### 6.- Resultados FINAL!!!  ⏮ "
      ]
    },
    {
      "cell_type": "code",
      "metadata": {
        "id": "CZCvnP7KEAKt",
        "colab_type": "code",
        "colab": {
          "base_uri": "https://localhost:8080/",
          "height": 34
        },
        "outputId": "c528585c-9e65-425e-fa49-2de3745524a5"
      },
      "source": [
        "# Cuentas de resultados encontrados\n",
        "len(association_results) # Número total de reglas (combinaciones) por el algoritmo"
      ],
      "execution_count": 34,
      "outputs": [
        {
          "output_type": "execute_result",
          "data": {
            "text/plain": [
              "4"
            ]
          },
          "metadata": {
            "tags": []
          },
          "execution_count": 34
        }
      ]
    },
    {
      "cell_type": "code",
      "metadata": {
        "id": "J4_ydVwJEAK2",
        "colab_type": "code",
        "colab": {
          "base_uri": "https://localhost:8080/",
          "height": 54
        },
        "outputId": "b0249ae4-dc43-4607-9c2f-a246b9af8613"
      },
      "source": [
        "# Visualizar 1 resultado\n",
        "association_results[1]"
      ],
      "execution_count": 35,
      "outputs": [
        {
          "output_type": "execute_result",
          "data": {
            "text/plain": [
              "RelationRecord(items=frozenset({'p128', 'p127'}), support=0.032432432432432434, ordered_statistics=[OrderedStatistic(items_base=frozenset({'p127'}), items_add=frozenset({'p128'}), confidence=1.0, lift=26.428571428571427), OrderedStatistic(items_base=frozenset({'p128'}), items_add=frozenset({'p127'}), confidence=0.8571428571428571, lift=26.428571428571427)])"
            ]
          },
          "metadata": {
            "tags": []
          },
          "execution_count": 35
        }
      ]
    },
    {
      "cell_type": "code",
      "metadata": {
        "id": "rhB3alnBRu8t",
        "colab_type": "code",
        "colab": {
          "base_uri": "https://localhost:8080/",
          "height": 34
        },
        "outputId": "111d2f56-8fd3-4be1-f92f-19b2012ccfd5"
      },
      "source": [
        "total_compras=len(df_data)\n",
        "print(total_compras)"
      ],
      "execution_count": 36,
      "outputs": [
        {
          "output_type": "stream",
          "text": [
            "185\n"
          ],
          "name": "stdout"
        }
      ]
    },
    {
      "cell_type": "markdown",
      "metadata": {
        "id": "pCbHl2f9SW46",
        "colab_type": "text"
      },
      "source": [
        "#### Visualizar todos los resultados"
      ]
    },
    {
      "cell_type": "code",
      "metadata": {
        "id": "ScW-Z4zvR-1H",
        "colab_type": "code",
        "colab": {
          "base_uri": "https://localhost:8080/",
          "height": 425
        },
        "outputId": "0afd55af-eec5-4a86-df0e-7d76f14bf22f"
      },
      "source": [
        "# Visualizar todos los resultados\n",
        "contador=1\n",
        "for item in association_results:\n",
        "\n",
        "    pair = item[0] \n",
        "    items = [x for x in pair]\n",
        "    print(contador)\n",
        "    print(\"Regla: \" + items[0] + \" -> \" + items[1])\n",
        "    print(\"Soporte: \" + str(item[1]*100))\n",
        "    print(\"Confianza: \" + str(item[2][0][2]*100))\n",
        "    print(\"Sustento: \" + str(item[2][0][3]))\n",
        "    print(\"=====================================\")\n",
        "    contador=contador+1"
      ],
      "execution_count": 37,
      "outputs": [
        {
          "output_type": "stream",
          "text": [
            "1\n",
            "Regla: p115 -> p200\n",
            "Soporte: 2.7027027027027026\n",
            "Confianza: 55.55555555555556\n",
            "Sustento: 20.555555555555554\n",
            "=====================================\n",
            "2\n",
            "Regla: p128 -> p127\n",
            "Soporte: 3.2432432432432434\n",
            "Confianza: 100.0\n",
            "Sustento: 26.428571428571427\n",
            "=====================================\n",
            "3\n",
            "Regla: p182 -> p215\n",
            "Soporte: 2.7027027027027026\n",
            "Confianza: 50.0\n",
            "Sustento: 3.5576923076923075\n",
            "=====================================\n",
            "4\n",
            "Regla: p72 -> p66\n",
            "Soporte: 2.7027027027027026\n",
            "Confianza: 83.33333333333334\n",
            "Sustento: 8.114035087719298\n",
            "=====================================\n"
          ],
          "name": "stdout"
        }
      ]
    },
    {
      "cell_type": "markdown",
      "metadata": {
        "id": "hClMhY06SZ1M",
        "colab_type": "text"
      },
      "source": [
        "#### Visualizar todos los resultados (con comentarios)"
      ]
    },
    {
      "cell_type": "code",
      "metadata": {
        "id": "S3RR-88rEALA",
        "colab_type": "code",
        "colab": {
          "base_uri": "https://localhost:8080/",
          "height": 629
        },
        "outputId": "3b6bd84e-5cc9-4d96-ccb9-efa36db02e4b"
      },
      "source": [
        "# Visualizar todos los resultados\n",
        "contador=1\n",
        "for item in association_results:\n",
        "\n",
        "    pair = item[0] \n",
        "    items = [x for x in pair]\n",
        "    print(\"Regla: \" + items[0] + \" -> \" + items[1])\n",
        "\n",
        "    #second index of the inner list\n",
        "    print(contador)\n",
        "    print(\"  Total de compras: \" + str(total_compras))\n",
        "    print(\"  Veces que aparece la combinación: \" + str(item[1]*total_compras))\n",
        "    print(\"  Soporte (% apariciones): \" + str(item[1]*100))\n",
        "    print(\"  Confianza (de 100 veces que se compra A, el producto B se compra): \" + str(item[2][0][2]*100))\n",
        "    print(\"  Sustento (mayor a 1 -> no es casualidad): \" + str(item[2][0][3]))\n",
        "    print(\"==========================================================\")\n",
        "    print(\"==========================================================\")\n",
        "    contador=contador+1"
      ],
      "execution_count": 38,
      "outputs": [
        {
          "output_type": "stream",
          "text": [
            "Regla: p115 -> p200\n",
            "1\n",
            "  Total de compras: 185\n",
            "  Veces que aparece la combinación: 5.0\n",
            "  Soporte (% apariciones): 2.7027027027027026\n",
            "  Confianza (de 100 veces que se compra A, el producto B se compra): 55.55555555555556\n",
            "  Sustento (mayor a 1 -> no es casualidad): 20.555555555555554\n",
            "==========================================================\n",
            "==========================================================\n",
            "Regla: p128 -> p127\n",
            "2\n",
            "  Total de compras: 185\n",
            "  Veces que aparece la combinación: 6.0\n",
            "  Soporte (% apariciones): 3.2432432432432434\n",
            "  Confianza (de 100 veces que se compra A, el producto B se compra): 100.0\n",
            "  Sustento (mayor a 1 -> no es casualidad): 26.428571428571427\n",
            "==========================================================\n",
            "==========================================================\n",
            "Regla: p182 -> p215\n",
            "3\n",
            "  Total de compras: 185\n",
            "  Veces que aparece la combinación: 5.0\n",
            "  Soporte (% apariciones): 2.7027027027027026\n",
            "  Confianza (de 100 veces que se compra A, el producto B se compra): 50.0\n",
            "  Sustento (mayor a 1 -> no es casualidad): 3.5576923076923075\n",
            "==========================================================\n",
            "==========================================================\n",
            "Regla: p72 -> p66\n",
            "4\n",
            "  Total de compras: 185\n",
            "  Veces que aparece la combinación: 5.0\n",
            "  Soporte (% apariciones): 2.7027027027027026\n",
            "  Confianza (de 100 veces que se compra A, el producto B se compra): 83.33333333333334\n",
            "  Sustento (mayor a 1 -> no es casualidad): 8.114035087719298\n",
            "==========================================================\n",
            "==========================================================\n"
          ],
          "name": "stdout"
        }
      ]
    },
    {
      "cell_type": "code",
      "metadata": {
        "id": "EYnbf_arEALH",
        "colab_type": "code",
        "colab": {}
      },
      "source": [
        ""
      ],
      "execution_count": null,
      "outputs": []
    },
    {
      "cell_type": "code",
      "metadata": {
        "id": "ZEZxq7S5EALS",
        "colab_type": "code",
        "colab": {}
      },
      "source": [
        ""
      ],
      "execution_count": null,
      "outputs": []
    }
  ]
}