{
  "nbformat": 4,
  "nbformat_minor": 0,
  "metadata": {
    "kernelspec": {
      "display_name": "Python 3",
      "language": "python",
      "name": "python3"
    },
    "colab": {
      "name": "Curso NLP 4 Asociación Comprados Juntos.ipynb",
      "provenance": []
    }
  },
  "cells": [
    {
      "cell_type": "markdown",
      "metadata": {
        "id": "cEkl_1cjG0jU",
        "colab_type": "text"
      },
      "source": [
        "<img src=\"https://i1.wp.com/www.sopitas.com/wp-content/uploads/2014/08/Tec-de-Monterrey-Logo-640x581.jpg\" width=\"100\"/>\n",
        "<!--<img src=\"http://www.consocpec.com.mx/assets/images/logo-ciestaam-411x411.jpg\" width=\"88\"/>  -->\n",
        "<h5>ITESM Campus Santa Fe <br> Armando Valdés </h5>"
      ]
    },
    {
      "cell_type": "markdown",
      "metadata": {
        "id": "wYSt5yHRVad4",
        "colab_type": "text"
      },
      "source": [
        "### Nomenclatura\n",
        "🟠 Modificar <br>\n",
        "⏮ Repetir en caso de cambiar texto<br>\n",
        "🔘 Opcional"
      ]
    },
    {
      "cell_type": "markdown",
      "metadata": {
        "id": "8sLOdo9iNF9P",
        "colab_type": "text"
      },
      "source": [
        "### 1.-Instalar bibliotecas"
      ]
    },
    {
      "cell_type": "code",
      "metadata": {
        "id": "WIYX9Z1iEM8f",
        "colab_type": "code",
        "colab": {}
      },
      "source": [
        "!pip install apyori"
      ],
      "execution_count": null,
      "outputs": []
    },
    {
      "cell_type": "code",
      "metadata": {
        "id": "veerhbbgEAI_",
        "colab_type": "code",
        "colab": {}
      },
      "source": [
        "import numpy as np  \n",
        "import matplotlib.pyplot as plt  \n",
        "import pandas as pd  \n",
        "from apyori import apriori"
      ],
      "execution_count": null,
      "outputs": []
    },
    {
      "cell_type": "markdown",
      "metadata": {
        "id": "qj1yRQt2EAJZ",
        "colab_type": "text"
      },
      "source": [
        "### 2.-Importar datos (base depurada) 🟠"
      ]
    },
    {
      "cell_type": "code",
      "metadata": {
        "id": "6pcXvvPkQDsl",
        "colab_type": "code",
        "colab": {}
      },
      "source": [
        "#para importar desde url\n",
        "url='https://raw.githubusercontent.com/armandovl/analisis_canasta/master/bases_de_datos/grocery_20.csv'"
      ],
      "execution_count": null,
      "outputs": []
    },
    {
      "cell_type": "code",
      "metadata": {
        "id": "F5ZsajbHEAJd",
        "colab_type": "code",
        "colab": {}
      },
      "source": [
        "df_data = pd.read_csv(url, header = None)"
      ],
      "execution_count": null,
      "outputs": []
    },
    {
      "cell_type": "code",
      "metadata": {
        "id": "IKqJmwbfEAJt",
        "colab_type": "code",
        "colab": {}
      },
      "source": [
        "df_data.head(5) #es bueno práctica aparte de ver el head también el tail"
      ],
      "execution_count": null,
      "outputs": []
    },
    {
      "cell_type": "code",
      "metadata": {
        "id": "2Z1qY6PsaBcX",
        "colab_type": "code",
        "colab": {}
      },
      "source": [
        "df_data.tail(5) #aquí un problema, me pone al final una columna con puros NaN"
      ],
      "execution_count": null,
      "outputs": []
    },
    {
      "cell_type": "code",
      "metadata": {
        "id": "4vJcEFsBaMNC",
        "colab_type": "code",
        "colab": {}
      },
      "source": [
        "df_data=df_data.dropna(how=\"all\") #corrigiendo el problema, eliminando fila donde todo sea NaN"
      ],
      "execution_count": null,
      "outputs": []
    },
    {
      "cell_type": "code",
      "metadata": {
        "id": "rDCgVGjwadvC",
        "colab_type": "code",
        "colab": {}
      },
      "source": [
        "len(df_data)"
      ],
      "execution_count": null,
      "outputs": []
    },
    {
      "cell_type": "markdown",
      "metadata": {
        "id": "UBriTtEKEAJ-",
        "colab_type": "text"
      },
      "source": [
        "### 3.- Preprocesar (lista de listas) ⏮ "
      ]
    },
    {
      "cell_type": "code",
      "metadata": {
        "id": "0XYXX7OGEAJ_",
        "colab_type": "code",
        "colab": {}
      },
      "source": [
        "records = []  \n",
        "for i in range(0, len(df_data)):  \n",
        "    records.append([str(df_data.values[i,j]) for j in range(0, len(df_data.columns))])"
      ],
      "execution_count": null,
      "outputs": []
    },
    {
      "cell_type": "markdown",
      "metadata": {
        "id": "eCRetRa4EAKO",
        "colab_type": "text"
      },
      "source": [
        "### 4.-Definir umbrales 🟠⏮ "
      ]
    },
    {
      "cell_type": "code",
      "metadata": {
        "id": "RLOB8aKLEAKP",
        "colab_type": "code",
        "colab": {}
      },
      "source": [
        "lon_min = 2 # Número mínimo de productos a considerar en las reglas\n",
        "\n",
        "veces_minimas_aparece_en_lista=3\n",
        "soporte_min = veces_minimas_aparece_en_lista / len(df_data)\n",
        "\n",
        "#soporte_min =0.01\n",
        "confianza_min =0.2\n",
        "sustento_min =1.5"
      ],
      "execution_count": null,
      "outputs": []
    },
    {
      "cell_type": "markdown",
      "metadata": {
        "id": "pIM42vX2EAKX",
        "colab_type": "text"
      },
      "source": [
        "### 5.-Ejecutar algoritmo ⏮ "
      ]
    },
    {
      "cell_type": "code",
      "metadata": {
        "id": "4iIUR0gnEAKf",
        "colab_type": "code",
        "colab": {}
      },
      "source": [
        "association_rules = apriori(records, min_support=soporte_min, min_confidence=confianza_min, min_lift=sustento_min, min_length=lon_min)\n",
        "association_results = list(association_rules)  #Convertir los resultados a lista para facilidad de visualización"
      ],
      "execution_count": null,
      "outputs": []
    },
    {
      "cell_type": "markdown",
      "metadata": {
        "id": "AC62RiiAEAKn",
        "colab_type": "text"
      },
      "source": [
        "### 6.- Resultados FINAL!!!  ⏮ "
      ]
    },
    {
      "cell_type": "code",
      "metadata": {
        "id": "CZCvnP7KEAKt",
        "colab_type": "code",
        "colab": {}
      },
      "source": [
        "# Cuentas de resultados encontrados\n",
        "len(association_results) # Número total de reglas (combinaciones) por el algoritmo"
      ],
      "execution_count": null,
      "outputs": []
    },
    {
      "cell_type": "code",
      "metadata": {
        "id": "J4_ydVwJEAK2",
        "colab_type": "code",
        "colab": {}
      },
      "source": [
        "# Visualizar 1 resultado\n",
        "association_results[1]"
      ],
      "execution_count": null,
      "outputs": []
    },
    {
      "cell_type": "code",
      "metadata": {
        "id": "rhB3alnBRu8t",
        "colab_type": "code",
        "colab": {}
      },
      "source": [
        "total_compras=len(df_data)\n",
        "print(total_compras)"
      ],
      "execution_count": null,
      "outputs": []
    },
    {
      "cell_type": "markdown",
      "metadata": {
        "id": "pCbHl2f9SW46",
        "colab_type": "text"
      },
      "source": [
        "#### Visualizar todos los resultados"
      ]
    },
    {
      "cell_type": "code",
      "metadata": {
        "id": "ScW-Z4zvR-1H",
        "colab_type": "code",
        "colab": {}
      },
      "source": [
        "# Visualizar todos los resultados\n",
        "contador=1\n",
        "for item in association_results:\n",
        "\n",
        "    pair = item[0] \n",
        "    items = [x for x in pair]\n",
        "    print(contador)\n",
        "    print(\"Regla: \" + items[0] + \" -> \" + items[1])\n",
        "    print(\"Soporte: \" + str(item[1]*100))\n",
        "    print(\"Confianza: \" + str(item[2][0][2]*100))\n",
        "    print(\"Sustento: \" + str(item[2][0][3]))\n",
        "    print(\"=====================================\")\n",
        "    contador=contador+1"
      ],
      "execution_count": null,
      "outputs": []
    },
    {
      "cell_type": "markdown",
      "metadata": {
        "id": "hClMhY06SZ1M",
        "colab_type": "text"
      },
      "source": [
        "#### Visualizar todos los resultados (con comentarios)"
      ]
    },
    {
      "cell_type": "code",
      "metadata": {
        "id": "S3RR-88rEALA",
        "colab_type": "code",
        "colab": {}
      },
      "source": [
        "# Visualizar todos los resultados\n",
        "contador=1\n",
        "for item in association_results:\n",
        "\n",
        "    pair = item[0] \n",
        "    items = [x for x in pair]\n",
        "    print(\"Regla: \" + items[0] + \" -> \" + items[1])\n",
        "\n",
        "    #second index of the inner list\n",
        "    print(contador)\n",
        "    print(\"  Total de compras: \" + str(total_compras))\n",
        "    print(\"  Veces que aparece la combinación: \" + str(item[1]*total_compras))\n",
        "    print(\"  Soporte (% apariciones): \" + str(item[1]*100))\n",
        "    print(\"  Confianza (de 100 veces que se compra A, el producto B se compra): \" + str(item[2][0][2]*100))\n",
        "    print(\"  Sustento (mayor a 1 -> no es casualidad): \" + str(item[2][0][3]))\n",
        "    print(\"==========================================================\")\n",
        "    print(\"==========================================================\")\n",
        "    contador=contador+1"
      ],
      "execution_count": null,
      "outputs": []
    },
    {
      "cell_type": "code",
      "metadata": {
        "id": "EYnbf_arEALH",
        "colab_type": "code",
        "colab": {}
      },
      "source": [
        ""
      ],
      "execution_count": null,
      "outputs": []
    },
    {
      "cell_type": "code",
      "metadata": {
        "id": "ZEZxq7S5EALS",
        "colab_type": "code",
        "colab": {}
      },
      "source": [
        ""
      ],
      "execution_count": null,
      "outputs": []
    }
  ]
}