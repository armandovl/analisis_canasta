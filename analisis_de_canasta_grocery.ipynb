{
  "nbformat": 4,
  "nbformat_minor": 0,
  "metadata": {
    "kernelspec": {
      "display_name": "Python 3",
      "language": "python",
      "name": "python3"
    },
    "colab": {
      "name": "Curso NLP 4 Asociación Comprados Juntos.ipynb",
      "provenance": [],
      "toc_visible": true,
      "include_colab_link": true
    }
  },
  "cells": [
    {
      "cell_type": "markdown",
      "metadata": {
        "id": "view-in-github",
        "colab_type": "text"
      },
      "source": [
        "<a href=\"https://colab.research.google.com/github/armandovl/analisis_canasta/blob/master/analisis_de_canasta_grocery.ipynb\" target=\"_parent\"><img src=\"https://colab.research.google.com/assets/colab-badge.svg\" alt=\"Open In Colab\"/></a>"
      ]
    },
    {
      "cell_type": "markdown",
      "metadata": {
        "id": "cEkl_1cjG0jU",
        "colab_type": "text"
      },
      "source": [
        "<img src=\"https://i1.wp.com/www.sopitas.com/wp-content/uploads/2014/08/Tec-de-Monterrey-Logo-640x581.jpg\" width=\"50\"/> \n",
        "<h5>ITESM Campus Santa Fe <br> Armando Valdés </h5>"
      ]
    },
    {
      "cell_type": "markdown",
      "metadata": {
        "id": "wYSt5yHRVad4",
        "colab_type": "text"
      },
      "source": [
        "### Nomenclatura\n",
        "🟠 Modificar <br>\n",
        "⏮ Repetir en caso de cambiar texto<br>\n",
        "🔘 Opcional"
      ]
    },
    {
      "cell_type": "markdown",
      "metadata": {
        "id": "8sLOdo9iNF9P",
        "colab_type": "text"
      },
      "source": [
        "### 1.-Instalar bibliotecas"
      ]
    },
    {
      "cell_type": "code",
      "metadata": {
        "id": "WIYX9Z1iEM8f",
        "colab_type": "code",
        "colab": {
          "base_uri": "https://localhost:8080/",
          "height": 190
        },
        "outputId": "bd40d6e4-7fab-4733-8a28-d43fa52a68db"
      },
      "source": [
        "!pip install apyori"
      ],
      "execution_count": 1,
      "outputs": [
        {
          "output_type": "stream",
          "text": [
            "Collecting apyori\n",
            "  Downloading https://files.pythonhosted.org/packages/5e/62/5ffde5c473ea4b033490617ec5caa80d59804875ad3c3c57c0976533a21a/apyori-1.1.2.tar.gz\n",
            "Building wheels for collected packages: apyori\n",
            "  Building wheel for apyori (setup.py) ... \u001b[?25l\u001b[?25hdone\n",
            "  Created wheel for apyori: filename=apyori-1.1.2-cp36-none-any.whl size=5975 sha256=7dd9de8a05d0204b994f29621f1d48e8f0f4eb1990a9c40dad0d87cd7c41036c\n",
            "  Stored in directory: /root/.cache/pip/wheels/5d/92/bb/474bbadbc8c0062b9eb168f69982a0443263f8ab1711a8cad0\n",
            "Successfully built apyori\n",
            "Installing collected packages: apyori\n",
            "Successfully installed apyori-1.1.2\n"
          ],
          "name": "stdout"
        }
      ]
    },
    {
      "cell_type": "code",
      "metadata": {
        "id": "veerhbbgEAI_",
        "colab_type": "code",
        "colab": {}
      },
      "source": [
        "import numpy as np  \n",
        "import matplotlib.pyplot as plt  \n",
        "import pandas as pd  \n",
        "from apyori import apriori"
      ],
      "execution_count": 4,
      "outputs": []
    },
    {
      "cell_type": "markdown",
      "metadata": {
        "id": "qj1yRQt2EAJZ",
        "colab_type": "text"
      },
      "source": [
        "### 2.-Importar datos (base depurada) 🟠"
      ]
    },
    {
      "cell_type": "code",
      "metadata": {
        "id": "6pcXvvPkQDsl",
        "colab_type": "code",
        "colab": {}
      },
      "source": [
        "#para importar desde url\n",
        "url='https://raw.githubusercontent.com/armandovl/analisis_canasta/master/bases_de_datos/grocery_20.csv'"
      ],
      "execution_count": 5,
      "outputs": []
    },
    {
      "cell_type": "code",
      "metadata": {
        "id": "F5ZsajbHEAJd",
        "colab_type": "code",
        "colab": {}
      },
      "source": [
        "df_data = pd.read_csv(url, header = None)"
      ],
      "execution_count": 6,
      "outputs": []
    },
    {
      "cell_type": "code",
      "metadata": {
        "id": "IKqJmwbfEAJt",
        "colab_type": "code",
        "colab": {
          "base_uri": "https://localhost:8080/",
          "height": 204
        },
        "outputId": "caff0fb8-838a-4862-e88e-43e85b011439"
      },
      "source": [
        "df_data.head(5)"
      ],
      "execution_count": 43,
      "outputs": [
        {
          "output_type": "execute_result",
          "data": {
            "text/html": [
              "<div>\n",
              "<style scoped>\n",
              "    .dataframe tbody tr th:only-of-type {\n",
              "        vertical-align: middle;\n",
              "    }\n",
              "\n",
              "    .dataframe tbody tr th {\n",
              "        vertical-align: top;\n",
              "    }\n",
              "\n",
              "    .dataframe thead th {\n",
              "        text-align: right;\n",
              "    }\n",
              "</style>\n",
              "<table border=\"1\" class=\"dataframe\">\n",
              "  <thead>\n",
              "    <tr style=\"text-align: right;\">\n",
              "      <th></th>\n",
              "      <th>0</th>\n",
              "      <th>1</th>\n",
              "      <th>2</th>\n",
              "      <th>3</th>\n",
              "    </tr>\n",
              "  </thead>\n",
              "  <tbody>\n",
              "    <tr>\n",
              "      <th>0</th>\n",
              "      <td>MILK</td>\n",
              "      <td>BREAD</td>\n",
              "      <td>BISCUIT</td>\n",
              "      <td>NaN</td>\n",
              "    </tr>\n",
              "    <tr>\n",
              "      <th>1</th>\n",
              "      <td>BREAD</td>\n",
              "      <td>MILK</td>\n",
              "      <td>BISCUIT</td>\n",
              "      <td>CORNFLAKES</td>\n",
              "    </tr>\n",
              "    <tr>\n",
              "      <th>2</th>\n",
              "      <td>BREAD</td>\n",
              "      <td>TEA</td>\n",
              "      <td>BOURNVITA</td>\n",
              "      <td>NaN</td>\n",
              "    </tr>\n",
              "    <tr>\n",
              "      <th>3</th>\n",
              "      <td>JAM</td>\n",
              "      <td>JUICE</td>\n",
              "      <td>BREAD</td>\n",
              "      <td>MILK</td>\n",
              "    </tr>\n",
              "    <tr>\n",
              "      <th>4</th>\n",
              "      <td>JUICE</td>\n",
              "      <td>TEA</td>\n",
              "      <td>BISCUIT</td>\n",
              "      <td>NaN</td>\n",
              "    </tr>\n",
              "  </tbody>\n",
              "</table>\n",
              "</div>"
            ],
            "text/plain": [
              "       0      1          2           3\n",
              "0   MILK  BREAD    BISCUIT         NaN\n",
              "1  BREAD   MILK    BISCUIT  CORNFLAKES\n",
              "2  BREAD    TEA  BOURNVITA         NaN\n",
              "3    JAM  JUICE      BREAD        MILK\n",
              "4  JUICE    TEA    BISCUIT         NaN"
            ]
          },
          "metadata": {
            "tags": []
          },
          "execution_count": 43
        }
      ]
    },
    {
      "cell_type": "markdown",
      "metadata": {
        "id": "UBriTtEKEAJ-",
        "colab_type": "text"
      },
      "source": [
        "### 3.- Preprocesar (lista de listas) ⏮ "
      ]
    },
    {
      "cell_type": "code",
      "metadata": {
        "id": "0XYXX7OGEAJ_",
        "colab_type": "code",
        "colab": {}
      },
      "source": [
        "records = []  \n",
        "for i in range(0, len(df_data)):  \n",
        "    records.append([str(df_data.values[i,j]) for j in range(0, len(df_data.columns))])"
      ],
      "execution_count": 32,
      "outputs": []
    },
    {
      "cell_type": "markdown",
      "metadata": {
        "id": "eCRetRa4EAKO",
        "colab_type": "text"
      },
      "source": [
        "### 4.-Definir umbrales 🟠⏮ "
      ]
    },
    {
      "cell_type": "code",
      "metadata": {
        "id": "RLOB8aKLEAKP",
        "colab_type": "code",
        "colab": {}
      },
      "source": [
        "lon_min = 2 # Número mínimo de productos a considerar en las reglas\n",
        "\n",
        "veces_minimas_aparece_en_lista=3\n",
        "soporte_min = veces_minimas_aparece_en_lista / len(df_data)\n",
        "\n",
        "#soporte_min =0.01\n",
        "confianza_min =0.2\n",
        "sustento_min =1.7"
      ],
      "execution_count": 33,
      "outputs": []
    },
    {
      "cell_type": "markdown",
      "metadata": {
        "id": "pIM42vX2EAKX",
        "colab_type": "text"
      },
      "source": [
        "### 5.-Ejecutar algoritmo ⏮ "
      ]
    },
    {
      "cell_type": "code",
      "metadata": {
        "id": "4iIUR0gnEAKf",
        "colab_type": "code",
        "colab": {}
      },
      "source": [
        "association_rules = apriori(records, min_support=soporte_min, min_confidence=confianza_min, min_lift=sustento_min, min_length=lon_min)\n",
        "association_results = list(association_rules)  #Convertir los resultados a lista para facilidad de visualización"
      ],
      "execution_count": 34,
      "outputs": []
    },
    {
      "cell_type": "markdown",
      "metadata": {
        "id": "AC62RiiAEAKn",
        "colab_type": "text"
      },
      "source": [
        "### 6.- Resultados FINAL!!!  ⏮ "
      ]
    },
    {
      "cell_type": "code",
      "metadata": {
        "id": "CZCvnP7KEAKt",
        "colab_type": "code",
        "colab": {
          "base_uri": "https://localhost:8080/",
          "height": 34
        },
        "outputId": "6b630fb5-05f8-4d37-c56d-647758592e5e"
      },
      "source": [
        "# Cuentas de resultados encontrados\n",
        "len(association_results) # Número total de reglas (combinaciones) por el algoritmo"
      ],
      "execution_count": 35,
      "outputs": [
        {
          "output_type": "execute_result",
          "data": {
            "text/plain": [
              "3"
            ]
          },
          "metadata": {
            "tags": []
          },
          "execution_count": 35
        }
      ]
    },
    {
      "cell_type": "code",
      "metadata": {
        "id": "J4_ydVwJEAK2",
        "colab_type": "code",
        "colab": {
          "base_uri": "https://localhost:8080/",
          "height": 54
        },
        "outputId": "02f79ce0-3d2f-4146-a5c2-babd79e4fc6a"
      },
      "source": [
        "# Visualizar 1 resultado\n",
        "association_results[1]"
      ],
      "execution_count": 36,
      "outputs": [
        {
          "output_type": "execute_result",
          "data": {
            "text/plain": [
              "RelationRecord(items=frozenset({'COFFEE', 'CORNFLAKES'}), support=0.19047619047619047, ordered_statistics=[OrderedStatistic(items_base=frozenset({'COFFEE'}), items_add=frozenset({'CORNFLAKES'}), confidence=0.5, lift=1.75), OrderedStatistic(items_base=frozenset({'CORNFLAKES'}), items_add=frozenset({'COFFEE'}), confidence=0.6666666666666666, lift=1.75)])"
            ]
          },
          "metadata": {
            "tags": []
          },
          "execution_count": 36
        }
      ]
    },
    {
      "cell_type": "code",
      "metadata": {
        "id": "rhB3alnBRu8t",
        "colab_type": "code",
        "colab": {
          "base_uri": "https://localhost:8080/",
          "height": 34
        },
        "outputId": "7a336717-4b62-4fae-fb97-446eef9db3d4"
      },
      "source": [
        "total_compras=len(df_data)\n",
        "print(total_compras)"
      ],
      "execution_count": 37,
      "outputs": [
        {
          "output_type": "stream",
          "text": [
            "21\n"
          ],
          "name": "stdout"
        }
      ]
    },
    {
      "cell_type": "markdown",
      "metadata": {
        "id": "pCbHl2f9SW46",
        "colab_type": "text"
      },
      "source": [
        "#### Visualizar todos los resultados"
      ]
    },
    {
      "cell_type": "code",
      "metadata": {
        "id": "ScW-Z4zvR-1H",
        "colab_type": "code",
        "colab": {
          "base_uri": "https://localhost:8080/",
          "height": 323
        },
        "outputId": "dcec5021-918d-4324-b0bd-b25335e67736"
      },
      "source": [
        "# Visualizar todos los resultados\n",
        "contador=1\n",
        "for item in association_results:\n",
        "\n",
        "    pair = item[0] \n",
        "    items = [x for x in pair]\n",
        "    print(contador)\n",
        "    print(\"Regla: \" + items[0] + \" -> \" + items[1])\n",
        "    print(\"Soporte: \" + str(item[1]*100))\n",
        "    print(\"Confianza: \" + str(item[2][0][2]*100))\n",
        "    print(\"Sustento: \" + str(item[2][0][3]))\n",
        "    print(\"=====================================\")\n",
        "    contador=contador+1"
      ],
      "execution_count": 38,
      "outputs": [
        {
          "output_type": "stream",
          "text": [
            "1\n",
            "Regla: COFFEE -> COOKIES\n",
            "Soporte: 14.285714285714285\n",
            "Confianza: 37.5\n",
            "Sustento: 1.96875\n",
            "=====================================\n",
            "2\n",
            "Regla: COFFEE -> CORNFLAKES\n",
            "Soporte: 19.047619047619047\n",
            "Confianza: 50.0\n",
            "Sustento: 1.75\n",
            "=====================================\n",
            "3\n",
            "Regla: TEA -> JUICE\n",
            "Soporte: 19.047619047619047\n",
            "Confianza: 80.0\n",
            "Sustento: 2.4000000000000004\n",
            "=====================================\n"
          ],
          "name": "stdout"
        }
      ]
    },
    {
      "cell_type": "markdown",
      "metadata": {
        "id": "hClMhY06SZ1M",
        "colab_type": "text"
      },
      "source": [
        "#### Visualizar todos los resultados (con comentarios)"
      ]
    },
    {
      "cell_type": "code",
      "metadata": {
        "id": "S3RR-88rEALA",
        "colab_type": "code",
        "colab": {
          "base_uri": "https://localhost:8080/",
          "height": 476
        },
        "outputId": "ee466df2-c822-4ead-a11a-afe0744cb4f9"
      },
      "source": [
        "# Visualizar todos los resultados\n",
        "contador=1\n",
        "for item in association_results:\n",
        "\n",
        "    pair = item[0] \n",
        "    items = [x for x in pair]\n",
        "    print(\"Regla: \" + items[0] + \" -> \" + items[1])\n",
        "\n",
        "    #second index of the inner list\n",
        "    print(contador)\n",
        "    print(\"  Total de compras: \" + str(total_compras))\n",
        "    print(\"  Veces que aparece la combinación: \" + str(item[1]*total_compras))\n",
        "    print(\"  Soporte (% apariciones): \" + str(item[1]*100))\n",
        "    print(\"  Confianza (de 100 veces que se compra A, el producto B se compra): \" + str(item[2][0][2]*100))\n",
        "    print(\"  Sustento (mayor a 1 -> no es casualidad): \" + str(item[2][0][3]))\n",
        "    print(\"==========================================================\")\n",
        "    print(\"==========================================================\")\n",
        "    contador=contador+1"
      ],
      "execution_count": 39,
      "outputs": [
        {
          "output_type": "stream",
          "text": [
            "Regla: COFFEE -> COOKIES\n",
            "1\n",
            "  Total de compras: 21\n",
            "  Veces que aparece la combinación: 3.0\n",
            "  Soporte (% apariciones): 14.285714285714285\n",
            "  Confianza (de 100 veces que se compra A, el producto B se compra): 37.5\n",
            "  Sustento (mayor a 1 -> no es casualidad): 1.96875\n",
            "==========================================================\n",
            "==========================================================\n",
            "Regla: COFFEE -> CORNFLAKES\n",
            "2\n",
            "  Total de compras: 21\n",
            "  Veces que aparece la combinación: 4.0\n",
            "  Soporte (% apariciones): 19.047619047619047\n",
            "  Confianza (de 100 veces que se compra A, el producto B se compra): 50.0\n",
            "  Sustento (mayor a 1 -> no es casualidad): 1.75\n",
            "==========================================================\n",
            "==========================================================\n",
            "Regla: TEA -> JUICE\n",
            "3\n",
            "  Total de compras: 21\n",
            "  Veces que aparece la combinación: 4.0\n",
            "  Soporte (% apariciones): 19.047619047619047\n",
            "  Confianza (de 100 veces que se compra A, el producto B se compra): 80.0\n",
            "  Sustento (mayor a 1 -> no es casualidad): 2.4000000000000004\n",
            "==========================================================\n",
            "==========================================================\n"
          ],
          "name": "stdout"
        }
      ]
    },
    {
      "cell_type": "code",
      "metadata": {
        "id": "EYnbf_arEALH",
        "colab_type": "code",
        "colab": {}
      },
      "source": [
        ""
      ],
      "execution_count": null,
      "outputs": []
    },
    {
      "cell_type": "code",
      "metadata": {
        "id": "ZEZxq7S5EALS",
        "colab_type": "code",
        "colab": {}
      },
      "source": [
        ""
      ],
      "execution_count": null,
      "outputs": []
    }
  ]
}